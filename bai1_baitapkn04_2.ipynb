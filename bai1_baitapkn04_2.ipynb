{
  "nbformat": 4,
  "nbformat_minor": 0,
  "metadata": {
    "colab": {
      "provenance": [],
      "authorship_tag": "ABX9TyOoLXJPFhrMLoH+RhYlbjFQ",
      "include_colab_link": true
    },
    "kernelspec": {
      "name": "python3",
      "display_name": "Python 3"
    },
    "language_info": {
      "name": "python"
    }
  },
  "cells": [
    {
      "cell_type": "markdown",
      "metadata": {
        "id": "view-in-github",
        "colab_type": "text"
      },
      "source": [
        "<a href=\"https://colab.research.google.com/github/viett887g/bai1baitapkinag/blob/main/bai1_baitapkn04_2.ipynb\" target=\"_parent\"><img src=\"https://colab.research.google.com/assets/colab-badge.svg\" alt=\"Open In Colab\"/></a>"
      ]
    },
    {
      "cell_type": "code",
      "source": [
        "import numpy as np\n",
        "import os\n",
        "from sklearn.model_selection import train_test_split\n",
        "from sklearn.metrics import accuracy_score\n",
        "from sklearn import preprocessing\n",
        "from scipy import optimize\n",
        "from sklearn.linear_model import LogisticRegression\n",
        "from sklearn.preprocessing import StandardScaler\n",
        "from sklearn.model_selection import KFold\n",
        "from sklearn import datasets, linear_model\n",
        "from sklearn.model_selection import cross_val_predict"
      ],
      "metadata": {
        "id": "geqV2gZWmt96"
      },
      "execution_count": 64,
      "outputs": []
    },
    {
      "cell_type": "markdown",
      "source": [
        "Đọc dữ liệu (ex2data2.txt);\n",
        "- Chuẩn hóa dữ liệu (lưu ý: chỉ chuẩn\n",
        "hóa X);\n",
        "- Phân chia train – test theo tỉ lệ 70% -\n",
        "30%;\n",
        "Xây dựng mô hình hồi quy Logistic\n",
        "sử dụng sklearn với thuật toán tối ưu\n",
        "là liblinear; số bước lăp là 1500;\n",
        "thiết lập chế độ nhãn lớp là auto;\n",
        "\n",
        "- Huấn luyện mô hình sử dụngcross_val_score() với lựa chọn k-\n",
        "fold cv là 10, \n",
        "\n",
        "- đánh giá mô hình bằng chỉ số accuracy và áp dụng với tập\n",
        "dữ liệu (X_train, y_train);\n",
        "- In kết quả huấn luyện ra màn hình."
      ],
      "metadata": {
        "id": "iEr-mfqNmdFa"
      }
    },
    {
      "cell_type": "code",
      "execution_count": 36,
      "metadata": {
        "id": "ilJmwPCOmWfa"
      },
      "outputs": [],
      "source": [
        "def readData(filePath: str, filename: str):\n",
        "    data = np.loadtxt(os.path.join(filePath, filename), delimiter = ',')\n",
        "    #data=preprocessing.StandardScaler().fit_transform(data)\n",
        "    X = data[:,:-1]\n",
        "    X=preprocessing.MinMaxScaler().fit_transform(X)\n",
        "    y = data[:, -1]\n",
        "    X_train, X_test, y_train, y_test = train_test_split(X, y,test_size=0.30,random_state=15)\n",
        "    return X_train, X_test, y_train, y_test"
      ]
    },
    {
      "cell_type": "code",
      "source": [
        "from sklearn import datasets, linear_model\n",
        "from sklearn.model_selection import cross_val_score\n",
        "from sklearn.model_selection import cross_val_predict\n",
        "from sklearn.datasets import load_iris\n",
        "from sklearn.linear_model import LogisticRegression"
      ],
      "metadata": {
        "id": "jt8QnZ5cnySI"
      },
      "execution_count": 37,
      "outputs": []
    },
    {
      "cell_type": "code",
      "source": [
        "def cross_valpredict1(X,y):\n",
        "  diabetes = datasets.load_diabetes()\n",
        "\n",
        "  cv = KFold(n_splits=4)\n",
        "  lasso = linear_model.Lasso()\n",
        "  y_pred = cross_val_predict(lasso, X, y, cv=cv)\n",
        "  return y_pred"
      ],
      "metadata": {
        "id": "haxJuFGrlfcX"
      },
      "execution_count": 51,
      "outputs": []
    },
    {
      "cell_type": "code",
      "source": [
        "def xd_k(y):\n",
        "  unique, counts = np.unique(y, return_counts=True)\n",
        "  result = dict(zip(unique, counts))\n",
        "  print(result)"
      ],
      "metadata": {
        "id": "gHfDTtj9i2iO"
      },
      "execution_count": 38,
      "outputs": []
    },
    {
      "cell_type": "code",
      "source": [
        "def nggeg():\n",
        "  model = LogisticRegression(solver='liblinear', max_iter=1500, multi_class='auto')\n",
        "  return model"
      ],
      "metadata": {
        "id": "RKBNWyGLsZM2"
      },
      "execution_count": 71,
      "outputs": []
    },
    {
      "cell_type": "code",
      "source": [
        "def cross_valscore(model,X,y):\n",
        "  scores = cross_val_score(model, X, y, cv=10, scoring='accuracy')\n",
        "  return scores"
      ],
      "metadata": {
        "id": "d1mI0As30Rnj"
      },
      "execution_count": 68,
      "outputs": []
    },
    {
      "cell_type": "code",
      "source": [
        "def cross_valpredict(model,X,y,cv):\n",
        "  y_hat = cross_val_predict(model, X, y, cv=10)\n",
        "  return y_hat"
      ],
      "metadata": {
        "id": "m_oHCIrtoaUE"
      },
      "execution_count": 69,
      "outputs": []
    },
    {
      "cell_type": "code",
      "source": [
        "def acc_score(y, y_hat):\n",
        "    result = accuracy_score(y, y_hat)\n",
        "    return  result"
      ],
      "metadata": {
        "id": "sqonYnNWpC4F"
      },
      "execution_count": 59,
      "outputs": []
    },
    {
      "cell_type": "code",
      "source": [
        "def main():\n",
        "    X_train, X_test, y_train, y_test = readData('/content','ex2data2.txt')\n",
        "    xd_k(y_train)\n",
        "    #Chia train - test\n",
        "    print(\"\\n su dung mo hinh logistic\")\n",
        "    model=nggeg()\n",
        "    scores=cross_valscore(model,X_train,y_train)\n",
        "    print(\"\\n ket qua huan luyen\",scores)\n",
        "\n",
        "    y_hat=cross_valpredict(model,X_test,y_test,cv=10)\n",
        "    result=acc_score(y_test, y_hat)\n",
        "    print(\"hieu nang mo hinh\",result)\n",
        "\n",
        "    y_pred=cross_valpredict1(X_train,y_train)\n",
        "    print(\"\\n hãy thay thế thuật toán tối ưu khác cho mô hình LogisticRegression. \\n\",y_pred)\n",
        "if __name__ == \"__main__\":\n",
        "    main()"
      ],
      "metadata": {
        "colab": {
          "base_uri": "https://localhost:8080/"
        },
        "id": "CDlQ1_GLnadQ",
        "outputId": "443011f7-6aa1-442d-e7ba-04c059d2927d"
      },
      "execution_count": 75,
      "outputs": [
        {
          "output_type": "stream",
          "name": "stdout",
          "text": [
            "{0.0: 41, 1.0: 41}\n",
            "\n",
            " su dung mo hinh logistic\n",
            "\n",
            " ket qua huan luyen [0.66666667 0.55555556 0.125      0.25       0.625      0.625\n",
            " 0.375      0.625      0.75       0.75      ]\n",
            "hieu nang mo hinh 0.4166666666666667\n",
            "\n",
            " hãy thay thế thuật toán tối ưu khác cho mô hình LogisticRegression. \n",
            " [0.55737705 0.55737705 0.55737705 0.55737705 0.55737705 0.55737705\n",
            " 0.55737705 0.55737705 0.55737705 0.55737705 0.55737705 0.55737705\n",
            " 0.55737705 0.55737705 0.55737705 0.55737705 0.55737705 0.55737705\n",
            " 0.55737705 0.55737705 0.55737705 0.50819672 0.50819672 0.50819672\n",
            " 0.50819672 0.50819672 0.50819672 0.50819672 0.50819672 0.50819672\n",
            " 0.50819672 0.50819672 0.50819672 0.50819672 0.50819672 0.50819672\n",
            " 0.50819672 0.50819672 0.50819672 0.50819672 0.50819672 0.50819672\n",
            " 0.48387097 0.48387097 0.48387097 0.48387097 0.48387097 0.48387097\n",
            " 0.48387097 0.48387097 0.48387097 0.48387097 0.48387097 0.48387097\n",
            " 0.48387097 0.48387097 0.48387097 0.48387097 0.48387097 0.48387097\n",
            " 0.48387097 0.48387097 0.4516129  0.4516129  0.4516129  0.4516129\n",
            " 0.4516129  0.4516129  0.4516129  0.4516129  0.4516129  0.4516129\n",
            " 0.4516129  0.4516129  0.4516129  0.4516129  0.4516129  0.4516129\n",
            " 0.4516129  0.4516129  0.4516129  0.4516129 ]\n"
          ]
        }
      ]
    }
  ]
}