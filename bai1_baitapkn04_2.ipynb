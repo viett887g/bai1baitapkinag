{
  "nbformat": 4,
  "nbformat_minor": 0,
  "metadata": {
    "colab": {
      "provenance": [],
      "authorship_tag": "ABX9TyOrRmwEPKjJgrWO05tT65Ro",
      "include_colab_link": true
    },
    "kernelspec": {
      "name": "python3",
      "display_name": "Python 3"
    },
    "language_info": {
      "name": "python"
    }
  },
  "cells": [
    {
      "cell_type": "markdown",
      "metadata": {
        "id": "view-in-github",
        "colab_type": "text"
      },
      "source": [
        "<a href=\"https://colab.research.google.com/github/viett887g/bai1baitapkinag/blob/main/bai1_baitapkn04_2.ipynb\" target=\"_parent\"><img src=\"https://colab.research.google.com/assets/colab-badge.svg\" alt=\"Open In Colab\"/></a>"
      ]
    },
    {
      "cell_type": "code",
      "source": [
        "import numpy as np\n",
        "import os\n",
        "from sklearn.model_selection import train_test_split\n",
        "from sklearn.metrics import accuracy_score\n",
        "from sklearn import preprocessing\n",
        "from scipy import optimize\n",
        "from sklearn.linear_model import LogisticRegression\n",
        "from sklearn.preprocessing import StandardScaler\n",
        "from sklearn.model_selection import KFold"
      ],
      "metadata": {
        "id": "geqV2gZWmt96"
      },
      "execution_count": 3,
      "outputs": []
    },
    {
      "cell_type": "markdown",
      "source": [
        "Đọc dữ liệu (ex2data2.txt);\n",
        "- Chuẩn hóa dữ liệu (lưu ý: chỉ chuẩn\n",
        "hóa X);\n",
        "- Phân chia train – test theo tỉ lệ 70% -\n",
        "30%;\n",
        "Xây dựng mô hình hồi quy Logistic\n",
        "sử dụng sklearn với thuật toán tối ưu\n",
        "là liblinear; số bước lăp là 1500;\n",
        "thiết lập chế độ nhãn lớp là auto;\n",
        "\n",
        "- Huấn luyện mô hình sử dụngcross_val_score() với lựa chọn k-\n",
        "fold cv là 10, \n",
        "\n",
        "- đánh giá mô hình bằng chỉ số accuracy và áp dụng với tập\n",
        "dữ liệu (X_train, y_train);\n",
        "- In kết quả huấn luyện ra màn hình."
      ],
      "metadata": {
        "id": "iEr-mfqNmdFa"
      }
    },
    {
      "cell_type": "code",
      "execution_count": 4,
      "metadata": {
        "id": "ilJmwPCOmWfa"
      },
      "outputs": [],
      "source": [
        "def readData(filePath: str, filename: str):\n",
        "    data = np.loadtxt(os.path.join(filePath, filename), delimiter = ',')\n",
        "    data=preprocessing.MinMaxScaler().fit_transform(data)\n",
        "    #data=preprocessing.StandardScaler().fit_transform(data)\n",
        "    X = data[:,:-1]\n",
        "    y = data[:, -1]\n",
        "    m = X.shape[0]\n",
        "    n = X.shape[1]\n",
        "    X = np.reshape(X, (m,n))\n",
        "    y = np.reshape(y, (m,1))\n",
        "    x0 = np.ones((m,1))\n",
        "    X = np.column_stack([x0, X])\n",
        "    return X, y"
      ]
    },
    {
      "cell_type": "code",
      "source": [
        "def featureVectorScaling(data):\n",
        "    data_scl = (data - np.mean(data))/(data.max() - data.min())\n",
        "    return data_scl\n",
        "\n",
        "def normalizeData(X):\n",
        "    X_scl = X[:, 0]\n",
        "    for i in range(1, X.shape[1]):\n",
        "        scl = featureVectorScaling(X[:, i])\n",
        "        X_scl = np.column_stack([X_scl, scl])\n",
        "    return X_scl\n"
      ],
      "metadata": {
        "id": "ccxzLA6Im514"
      },
      "execution_count": 7,
      "outputs": []
    },
    {
      "cell_type": "code",
      "source": [
        "def sigmoid(X, w):\n",
        "    result = 1/(1 + np.exp(-np.dot(X, w)))\n",
        "    return result"
      ],
      "metadata": {
        "id": "Tx3skSCXnFio"
      },
      "execution_count": 8,
      "outputs": []
    },
    {
      "cell_type": "code",
      "source": [
        "def loss(X, y, w):\n",
        "    m = y.shape[0]\n",
        "    result = (-1/m)*np.sum(np.dot(y.T, np.log(sigmoid(X, w))) + np.dot((1 - y).T, np.log(1 - sigmoid(X, w))))\n",
        "    return result\n"
      ],
      "metadata": {
        "id": "J6pqPq6CnUNw"
      },
      "execution_count": 9,
      "outputs": []
    },
    {
      "cell_type": "code",
      "source": [
        "def gradient(X, y, w):\n",
        "    m = X.shape[0]\n",
        "    result = (1/m)*np.dot(X.T, sigmoid(X, w) - y)\n",
        "    return result\n",
        "\n",
        "def gradientDescent(X, y, w, alpha, n_iters):\n",
        "    w_optimal = w.copy()\n",
        "    J_history = []\n",
        "    for i in range(n_iters):\n",
        "        w_optimal = w_optimal - alpha*gradient(X, y, w_optimal)\n",
        "        J_history.append(loss(X, y, w_optimal))\n",
        "    return w_optimal, J_history"
      ],
      "metadata": {
        "id": "bJul1zEXnWr4"
      },
      "execution_count": 10,
      "outputs": []
    },
    {
      "cell_type": "code",
      "source": [
        ">>> from sklearn import datasets, linear_model\n",
        ">>> from sklearn.model_selection import cross_val_score"
      ],
      "metadata": {
        "id": "jt8QnZ5cnySI"
      },
      "execution_count": 15,
      "outputs": []
    },
    {
      "cell_type": "code",
      "source": [
        "def cross_valscore(X,y):\n",
        "  diabetes = datasets.load_diabetes()\n",
        "  lasso = linear_model.Lasso()\n",
        "  ln=cross_val_score(lasso, X, y, cv=10)\n",
        "  return ln"
      ],
      "metadata": {
        "id": "bC79ZkGun2bw"
      },
      "execution_count": 20,
      "outputs": []
    },
    {
      "cell_type": "code",
      "source": [
        ">>> from sklearn.datasets import load_iris\n",
        ">>> from sklearn.linear_model import LogisticRegression"
      ],
      "metadata": {
        "id": "xdc07q40sV0I"
      },
      "execution_count": 35,
      "outputs": []
    },
    {
      "cell_type": "code",
      "source": [
        "def nggeg(X,y):\n",
        "  model = LogisticRegression(random_state=0).fit(X,y)\n",
        "  w_otp0 = model.coef_\n",
        "  return w_otp0"
      ],
      "metadata": {
        "id": "RKBNWyGLsZM2"
      },
      "execution_count": 50,
      "outputs": []
    },
    {
      "cell_type": "code",
      "source": [
        "def acc_score(y, y_hat):\n",
        "    result= accuracy_score(y.flatten(), y_hat.flatten())\n",
        "    return  result"
      ],
      "metadata": {
        "id": "AUT8e3oOo_SP"
      },
      "execution_count": 46,
      "outputs": []
    },
    {
      "cell_type": "code",
      "source": [
        "def main():\n",
        "    X, y = readData('/content','ex2data1.txt')\n",
        "    X = normalizeData(X)\n",
        "    n = X.shape[1]\n",
        "    w = np.zeros((n, 1))\n",
        "    alpha = 0.01\n",
        "    n_iters = 1500\n",
        "    #Chia train - test\n",
        "    X_train, X_test, y_train, y_test = train_test_split(X, y,test_size=0.30,random_state=15)\n",
        "    w_opt, J_hist = gradientDescent(X_train, y_train, w, alpha, n_iters)\n",
        "    print(\"Ket qua huan luyen mo hinh la: \")\n",
        "    print('Trong so w toi uu la: ', w_opt)\n",
        "    print('Gia tri Loss toi uu: ', J_hist[-1])\n",
        "    print(\"\\n\")\n",
        "    print(\"\\n su dung mo hinh logistic\")\n",
        "    w_otp0=nggeg(X_train,y_train)\n",
        "    print(\"trong so toi uu \",w_otp0)\n",
        "    y_hat4=predict(sigmoid(X_test,w_otp0[0]))\n",
        "    print('\\n Chỉ số Accuracy: ', acc_score(y_test, y_hat4))\n",
        "    print(' Sử dụng sklearn, Acc: ', accuracy_score(y_test.flatten(), y_hat4.flatten()))\n",
        "    ln=cross_valscore(X_train,y_train)\n",
        "    print(\"\\ndu doan bang cross_val_score la :\",ln)\n",
        "if __name__ == \"__main__\":\n",
        "    main()"
      ],
      "metadata": {
        "colab": {
          "base_uri": "https://localhost:8080/"
        },
        "id": "CDlQ1_GLnadQ",
        "outputId": "8dc2d2a3-3e24-4b91-8b2c-68bada76dd6b"
      },
      "execution_count": 51,
      "outputs": [
        {
          "output_type": "stream",
          "name": "stdout",
          "text": [
            "Ket qua huan luyen mo hinh la: \n",
            "Trong so w toi uu la:  [[0.3062952 ]\n",
            " [0.959592  ]\n",
            " [0.98200359]]\n",
            "Gia tri Loss toi uu:  0.5559175598889188\n",
            "\n",
            "\n",
            "\n",
            " su dung mo hinh logistic\n",
            "trong so toi uu  [[-1.18859659e-05  2.38821619e+00  2.56233703e+00]]\n",
            "\n",
            " Chỉ số Accuracy:  0.8666666666666667\n",
            " Sử dụng sklearn, Acc:  0.8666666666666667\n",
            "\n",
            "du doan bang cross_val_score la : [ 0.         -0.12345679 -0.10288066  0.         -0.12345679 -0.10288066\n",
            " -0.12345679  0.          0.         -0.10288066]\n"
          ]
        },
        {
          "output_type": "stream",
          "name": "stderr",
          "text": [
            "/usr/local/lib/python3.7/dist-packages/sklearn/utils/validation.py:993: DataConversionWarning: A column-vector y was passed when a 1d array was expected. Please change the shape of y to (n_samples, ), for example using ravel().\n",
            "  y = column_or_1d(y, warn=True)\n"
          ]
        }
      ]
    }
  ]
}