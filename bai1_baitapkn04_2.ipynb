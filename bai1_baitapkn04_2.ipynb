{
  "nbformat": 4,
  "nbformat_minor": 0,
  "metadata": {
    "colab": {
      "provenance": [],
      "authorship_tag": "ABX9TyPrbjB/dfLp0vIXzmSaznMq",
      "include_colab_link": true
    },
    "kernelspec": {
      "name": "python3",
      "display_name": "Python 3"
    },
    "language_info": {
      "name": "python"
    }
  },
  "cells": [
    {
      "cell_type": "markdown",
      "metadata": {
        "id": "view-in-github",
        "colab_type": "text"
      },
      "source": [
        "<a href=\"https://colab.research.google.com/github/viett887g/bai1baitapkinag/blob/main/bai1_baitapkn04_2.ipynb\" target=\"_parent\"><img src=\"https://colab.research.google.com/assets/colab-badge.svg\" alt=\"Open In Colab\"/></a>"
      ]
    },
    {
      "cell_type": "code",
      "source": [
        "import numpy as np\n",
        "import os\n",
        "from sklearn.model_selection import train_test_split\n",
        "from sklearn.metrics import accuracy_score\n",
        "from sklearn import preprocessing\n",
        "from scipy import optimize\n",
        "from sklearn.linear_model import LogisticRegression\n",
        "from sklearn.preprocessing import StandardScaler\n",
        "from sklearn.model_selection import KFold"
      ],
      "metadata": {
        "id": "geqV2gZWmt96"
      },
      "execution_count": 3,
      "outputs": []
    },
    {
      "cell_type": "markdown",
      "source": [
        "Đọc dữ liệu (ex2data2.txt);\n",
        "- Chuẩn hóa dữ liệu (lưu ý: chỉ chuẩn\n",
        "hóa X);\n",
        "- Phân chia train – test theo tỉ lệ 70% -\n",
        "30%;\n",
        "Xây dựng mô hình hồi quy Logistic\n",
        "sử dụng sklearn với thuật toán tối ưu\n",
        "là liblinear; số bước lăp là 1500;\n",
        "thiết lập chế độ nhãn lớp là auto;\n",
        "\n",
        "- Huấn luyện mô hình sử dụngcross_val_score() với lựa chọn k-\n",
        "fold cv là 10, \n",
        "\n",
        "- đánh giá mô hình bằng chỉ số accuracy và áp dụng với tập\n",
        "dữ liệu (X_train, y_train);\n",
        "- In kết quả huấn luyện ra màn hình."
      ],
      "metadata": {
        "id": "iEr-mfqNmdFa"
      }
    },
    {
      "cell_type": "code",
      "execution_count": 61,
      "metadata": {
        "id": "ilJmwPCOmWfa"
      },
      "outputs": [],
      "source": [
        "def readData(filePath: str, filename: str):\n",
        "    data = np.loadtxt(os.path.join(filePath, filename), delimiter = ',')\n",
        "    data=preprocessing.MinMaxScaler().fit_transform(data)\n",
        "    #data=preprocessing.StandardScaler().fit_transform(data)\n",
        "    X = data[:,:-1]\n",
        "    y = data[:, -1]\n",
        "    m = X.shape[0]\n",
        "    n = X.shape[1]\n",
        "    X = np.reshape(X, (m,n))\n",
        "    y = np.reshape(y, (m,1))\n",
        "    x0 = np.ones((m,1))\n",
        "    X = np.column_stack([x0, X])\n",
        "    X_train, X_test, y_train, y_test = train_test_split(X, y,test_size=0.30,random_state=15)\n",
        "    return X_train, X_test, y_train, y_test"
      ]
    },
    {
      "cell_type": "code",
      "source": [
        ">>> from sklearn import datasets, linear_model\n",
        ">>> from sklearn.model_selection import cross_val_score"
      ],
      "metadata": {
        "id": "jt8QnZ5cnySI"
      },
      "execution_count": 15,
      "outputs": []
    },
    {
      "cell_type": "code",
      "source": [
        "def cross_valscore(X,y):\n",
        "  diabetes = datasets.load_diabetes()\n",
        "  lasso = linear_model.Lasso()\n",
        "  ln=cross_val_score(lasso, X, y, cv=10)\n",
        "  return ln"
      ],
      "metadata": {
        "id": "bC79ZkGun2bw"
      },
      "execution_count": 20,
      "outputs": []
    },
    {
      "cell_type": "code",
      "source": [
        ">>> from sklearn.datasets import load_iris\n",
        ">>> from sklearn.linear_model import LogisticRegression"
      ],
      "metadata": {
        "id": "xdc07q40sV0I"
      },
      "execution_count": 35,
      "outputs": []
    },
    {
      "cell_type": "code",
      "source": [
        "def nggeg(X,y):\n",
        "  model = LogisticRegression(random_state=0).fit(X,y)\n",
        "  w_otp0 = model.coef_\n",
        "  return w_otp0"
      ],
      "metadata": {
        "id": "RKBNWyGLsZM2"
      },
      "execution_count": 50,
      "outputs": []
    },
    {
      "cell_type": "code",
      "source": [
        "def predict(y_pred):\n",
        "    return np.rint(y_pred)"
      ],
      "metadata": {
        "id": "igNtuzCEzGa0"
      },
      "execution_count": 58,
      "outputs": []
    },
    {
      "cell_type": "code",
      "source": [
        "def acc_score(y, y_hat):\n",
        "    result= accuracy_score(y.flatten(), y_hat.flatten())\n",
        "    return  result"
      ],
      "metadata": {
        "id": "AUT8e3oOo_SP"
      },
      "execution_count": 46,
      "outputs": []
    },
    {
      "cell_type": "code",
      "source": [
        "def main():\n",
        "    X_train, X_test, y_train, y_test = readData('/content','ex2data1.txt')\n",
        "    #Chia train - test\n",
        "    print(\"\\n su dung mo hinh logistic\")\n",
        "    w_otp0=nggeg(X_train,y_train)\n",
        "    print(\"trong so toi uu \",w_otp0)\n",
        "    y_hat4=predict(sigmoid(X_test,w_otp0[0]))\n",
        "    print('\\n Chỉ số Accuracy: ', acc_score(y_test, y_hat4))\n",
        "    print(' Sử dụng sklearn, Acc: ', accuracy_score(y_test.flatten(), y_hat4.flatten()))\n",
        "    ln=cross_valscore(X_train,y_train)\n",
        "    print(\"\\ndu doan bang cross_val_score la :\",ln)\n",
        "if __name__ == \"__main__\":\n",
        "    main()"
      ],
      "metadata": {
        "colab": {
          "base_uri": "https://localhost:8080/"
        },
        "id": "CDlQ1_GLnadQ",
        "outputId": "a1f89584-25f0-44bc-cea2-c377096b74ae"
      },
      "execution_count": 63,
      "outputs": [
        {
          "output_type": "stream",
          "name": "stdout",
          "text": [
            "\n",
            " su dung mo hinh logistic\n",
            "trong so toi uu  [[1.53015902e-05 2.38816927e+00 2.56227651e+00]]\n",
            "\n",
            " Chỉ số Accuracy:  0.6666666666666666\n",
            " Sử dụng sklearn, Acc:  0.6666666666666666\n",
            "\n",
            "du doan bang cross_val_score la : [ 0.         -0.12345679 -0.10288066  0.         -0.12345679 -0.10288066\n",
            " -0.12345679  0.          0.         -0.10288066]\n"
          ]
        },
        {
          "output_type": "stream",
          "name": "stderr",
          "text": [
            "/usr/local/lib/python3.7/dist-packages/sklearn/utils/validation.py:993: DataConversionWarning: A column-vector y was passed when a 1d array was expected. Please change the shape of y to (n_samples, ), for example using ravel().\n",
            "  y = column_or_1d(y, warn=True)\n"
          ]
        }
      ]
    }
  ]
}